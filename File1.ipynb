{
 "cells": [
  {
   "cell_type": "code",
   "execution_count": 1,
   "metadata": {},
   "outputs": [],
   "source": [
    "import pandas as pd\n",
    "import numpy as np\n",
    "import matplotlib.pyplot as plt\n"
   ]
  },
  {
   "cell_type": "code",
   "execution_count": 10,
   "metadata": {},
   "outputs": [],
   "source": [
    "import os\n",
    "import glob\n"
   ]
  },
  {
   "cell_type": "code",
   "execution_count": 9,
   "metadata": {},
   "outputs": [
    {
     "name": "stdout",
     "output_type": "stream",
     "text": [
      "['categories.csv', 'cities.csv', 'countries.csv', 'customers.csv', 'employes.csv', 'products.csv', 'sales.csv']\n"
     ]
    }
   ],
   "source": [
    "files = glob.glob('*.csv')\n",
    "print (files)"
   ]
  },
  {
   "cell_type": "code",
   "execution_count": 41,
   "metadata": {},
   "outputs": [
    {
     "data": {
      "text/html": [
       "<div>\n",
       "<style scoped>\n",
       "    .dataframe tbody tr th:only-of-type {\n",
       "        vertical-align: middle;\n",
       "    }\n",
       "\n",
       "    .dataframe tbody tr th {\n",
       "        vertical-align: top;\n",
       "    }\n",
       "\n",
       "    .dataframe thead th {\n",
       "        text-align: right;\n",
       "    }\n",
       "</style>\n",
       "<table border=\"1\" class=\"dataframe\">\n",
       "  <thead>\n",
       "    <tr style=\"text-align: right;\">\n",
       "      <th></th>\n",
       "      <th>SalesID</th>\n",
       "      <th>SalesPersonID</th>\n",
       "      <th>CustomerID</th>\n",
       "      <th>ProductID</th>\n",
       "      <th>Quantity</th>\n",
       "      <th>Discount</th>\n",
       "      <th>TotalPrice</th>\n",
       "      <th>SalesDate</th>\n",
       "      <th>TransactionNumber</th>\n",
       "    </tr>\n",
       "  </thead>\n",
       "  <tbody>\n",
       "    <tr>\n",
       "      <th>0</th>\n",
       "      <td>1</td>\n",
       "      <td>6</td>\n",
       "      <td>27039</td>\n",
       "      <td>381</td>\n",
       "      <td>7</td>\n",
       "      <td>NaN</td>\n",
       "      <td>0,00</td>\n",
       "      <td>2018-02-05 07:38:25.430</td>\n",
       "      <td>FQL4S94E4ME1EZFTG42G</td>\n",
       "    </tr>\n",
       "    <tr>\n",
       "      <th>1</th>\n",
       "      <td>2</td>\n",
       "      <td>16</td>\n",
       "      <td>25011</td>\n",
       "      <td>61</td>\n",
       "      <td>7</td>\n",
       "      <td>NaN</td>\n",
       "      <td>0,00</td>\n",
       "      <td>2018-02-02 16:03:31.150</td>\n",
       "      <td>12UGLX40DJ1A5DTFBHB8</td>\n",
       "    </tr>\n",
       "    <tr>\n",
       "      <th>2</th>\n",
       "      <td>3</td>\n",
       "      <td>13</td>\n",
       "      <td>94024</td>\n",
       "      <td>23</td>\n",
       "      <td>24</td>\n",
       "      <td>NaN</td>\n",
       "      <td>0,00</td>\n",
       "      <td>2018-05-03 19:31:56.880</td>\n",
       "      <td>5DT8RCPL87KI5EORO7B0</td>\n",
       "    </tr>\n",
       "    <tr>\n",
       "      <th>3</th>\n",
       "      <td>4</td>\n",
       "      <td>8</td>\n",
       "      <td>73966</td>\n",
       "      <td>176</td>\n",
       "      <td>19</td>\n",
       "      <td>0.2</td>\n",
       "      <td>0,00</td>\n",
       "      <td>2018-04-07 14:43:55.420</td>\n",
       "      <td>R3DR9MLD5NR76VO17ULE</td>\n",
       "    </tr>\n",
       "    <tr>\n",
       "      <th>4</th>\n",
       "      <td>5</td>\n",
       "      <td>10</td>\n",
       "      <td>32653</td>\n",
       "      <td>310</td>\n",
       "      <td>9</td>\n",
       "      <td>NaN</td>\n",
       "      <td>0,00</td>\n",
       "      <td>2018-02-12 15:37:03.940</td>\n",
       "      <td>4BGS0Z5OMAZ8NDAFHHP3</td>\n",
       "    </tr>\n",
       "    <tr>\n",
       "      <th>...</th>\n",
       "      <td>...</td>\n",
       "      <td>...</td>\n",
       "      <td>...</td>\n",
       "      <td>...</td>\n",
       "      <td>...</td>\n",
       "      <td>...</td>\n",
       "      <td>...</td>\n",
       "      <td>...</td>\n",
       "      <td>...</td>\n",
       "    </tr>\n",
       "    <tr>\n",
       "      <th>95</th>\n",
       "      <td>96</td>\n",
       "      <td>9</td>\n",
       "      <td>22604</td>\n",
       "      <td>22</td>\n",
       "      <td>6</td>\n",
       "      <td>NaN</td>\n",
       "      <td>0,00</td>\n",
       "      <td>2018-01-11 17:43:32.740</td>\n",
       "      <td>FCY2D2WR4YTXPGLYT0AE</td>\n",
       "    </tr>\n",
       "    <tr>\n",
       "      <th>96</th>\n",
       "      <td>97</td>\n",
       "      <td>21</td>\n",
       "      <td>1358</td>\n",
       "      <td>78</td>\n",
       "      <td>1</td>\n",
       "      <td>0.1</td>\n",
       "      <td>0,00</td>\n",
       "      <td>2018-01-30 12:35:48.080</td>\n",
       "      <td>8DOKJUM3MQKFMAGSJ3SL</td>\n",
       "    </tr>\n",
       "    <tr>\n",
       "      <th>97</th>\n",
       "      <td>98</td>\n",
       "      <td>4</td>\n",
       "      <td>63272</td>\n",
       "      <td>182</td>\n",
       "      <td>17</td>\n",
       "      <td>0.1</td>\n",
       "      <td>0,00</td>\n",
       "      <td>2018-01-02 18:33:10.390</td>\n",
       "      <td>UAXS9E5E3C56F7YAHU89</td>\n",
       "    </tr>\n",
       "    <tr>\n",
       "      <th>98</th>\n",
       "      <td>99</td>\n",
       "      <td>17</td>\n",
       "      <td>92090</td>\n",
       "      <td>124</td>\n",
       "      <td>24</td>\n",
       "      <td>0.2</td>\n",
       "      <td>0,00</td>\n",
       "      <td>2018-03-24 15:29:24.980</td>\n",
       "      <td>I78H3546AWIT4D2QS9FG</td>\n",
       "    </tr>\n",
       "    <tr>\n",
       "      <th>99</th>\n",
       "      <td>100</td>\n",
       "      <td>23</td>\n",
       "      <td>6361</td>\n",
       "      <td>103</td>\n",
       "      <td>2</td>\n",
       "      <td>NaN</td>\n",
       "      <td>0,00</td>\n",
       "      <td>2018-05-01 06:55:00.960</td>\n",
       "      <td>JDF863IH28KBQC3PA691</td>\n",
       "    </tr>\n",
       "  </tbody>\n",
       "</table>\n",
       "<p>100 rows × 9 columns</p>\n",
       "</div>"
      ],
      "text/plain": [
       "    SalesID  SalesPersonID  CustomerID  ProductID  Quantity  Discount  \\\n",
       "0         1              6       27039        381         7       NaN   \n",
       "1         2             16       25011         61         7       NaN   \n",
       "2         3             13       94024         23        24       NaN   \n",
       "3         4              8       73966        176        19       0.2   \n",
       "4         5             10       32653        310         9       NaN   \n",
       "..      ...            ...         ...        ...       ...       ...   \n",
       "95       96              9       22604         22         6       NaN   \n",
       "96       97             21        1358         78         1       0.1   \n",
       "97       98              4       63272        182        17       0.1   \n",
       "98       99             17       92090        124        24       0.2   \n",
       "99      100             23        6361        103         2       NaN   \n",
       "\n",
       "   TotalPrice                SalesDate     TransactionNumber  \n",
       "0        0,00  2018-02-05 07:38:25.430  FQL4S94E4ME1EZFTG42G  \n",
       "1        0,00  2018-02-02 16:03:31.150  12UGLX40DJ1A5DTFBHB8  \n",
       "2        0,00  2018-05-03 19:31:56.880  5DT8RCPL87KI5EORO7B0  \n",
       "3        0,00  2018-04-07 14:43:55.420  R3DR9MLD5NR76VO17ULE  \n",
       "4        0,00  2018-02-12 15:37:03.940  4BGS0Z5OMAZ8NDAFHHP3  \n",
       "..        ...                      ...                   ...  \n",
       "95       0,00  2018-01-11 17:43:32.740  FCY2D2WR4YTXPGLYT0AE  \n",
       "96       0,00  2018-01-30 12:35:48.080  8DOKJUM3MQKFMAGSJ3SL  \n",
       "97       0,00  2018-01-02 18:33:10.390  UAXS9E5E3C56F7YAHU89  \n",
       "98       0,00  2018-03-24 15:29:24.980  I78H3546AWIT4D2QS9FG  \n",
       "99       0,00  2018-05-01 06:55:00.960  JDF863IH28KBQC3PA691  \n",
       "\n",
       "[100 rows x 9 columns]"
      ]
     },
     "execution_count": 41,
     "metadata": {},
     "output_type": "execute_result"
    }
   ],
   "source": [
    "df=pd.read_csv('sales.csv',nrows=100,sep=';')\n",
    "df.head(100)"
   ]
  },
  {
   "cell_type": "code",
   "execution_count": 33,
   "metadata": {},
   "outputs": [
    {
     "data": {
      "text/plain": [
       "SalesID              100\n",
       "SalesPersonID         23\n",
       "CustomerID           100\n",
       "ProductID             91\n",
       "Quantity              23\n",
       "Discount               2\n",
       "TotalPrice             1\n",
       "SalesDate             99\n",
       "TransactionNumber    100\n",
       "dtype: int64"
      ]
     },
     "execution_count": 33,
     "metadata": {},
     "output_type": "execute_result"
    }
   ],
   "source": [
    "df.nunique()"
   ]
  },
  {
   "cell_type": "code",
   "execution_count": 37,
   "metadata": {},
   "outputs": [
    {
     "data": {
      "text/plain": [
       "124    4\n",
       "122    3\n",
       "83     2\n",
       "393    2\n",
       "392    2\n",
       "      ..\n",
       "346    1\n",
       "91     1\n",
       "150    1\n",
       "349    1\n",
       "384    1\n",
       "Name: ProductID, Length: 91, dtype: int64"
      ]
     },
     "execution_count": 37,
     "metadata": {},
     "output_type": "execute_result"
    }
   ],
   "source": [
    "df['ProductID'].value_counts()"
   ]
  },
  {
   "cell_type": "code",
   "execution_count": 38,
   "metadata": {},
   "outputs": [],
   "source": [
    "#Use Categories and Sales.csv and find the amount people are spending on different categories of products  which finds which product is being costly and which is low."
   ]
  },
  {
   "cell_type": "code",
   "execution_count": 45,
   "metadata": {},
   "outputs": [],
   "source": [
    "#Which age group of employees are selling the most products and create a pie chart to visualize it."
   ]
  },
  {
   "cell_type": "code",
   "execution_count": 39,
   "metadata": {},
   "outputs": [],
   "source": [
    "#Using Employee id and City id use sales.csv and find out which city is generating maximum sales."
   ]
  },
  {
   "cell_type": "code",
   "execution_count": 43,
   "metadata": {},
   "outputs": [],
   "source": [
    "#Using Sales.csv which month is having the maximum sales and which city  use customer id"
   ]
  },
  {
   "cell_type": "code",
   "execution_count": 44,
   "metadata": {},
   "outputs": [],
   "source": [
    "#Use Categories.csv and Products.csv file and find the number of items using Product Id as key and plot using bar graph"
   ]
  },
  {
   "cell_type": "code",
   "execution_count": null,
   "metadata": {},
   "outputs": [],
   "source": []
  }
 ],
 "metadata": {
  "kernelspec": {
   "display_name": "Python 3",
   "language": "python",
   "name": "python3"
  },
  "language_info": {
   "codemirror_mode": {
    "name": "ipython",
    "version": 3
   },
   "file_extension": ".py",
   "mimetype": "text/x-python",
   "name": "python",
   "nbconvert_exporter": "python",
   "pygments_lexer": "ipython3",
   "version": "3.8.6"
  }
 },
 "nbformat": 4,
 "nbformat_minor": 4
}
