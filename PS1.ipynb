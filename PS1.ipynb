{
 "cells": [
  {
   "cell_type": "markdown",
   "metadata": {},
   "source": [
    "### Use Categories.csv and Products.csv file and find the number of items using Product Id as key and plot using bar graph"
   ]
  },
  {
   "cell_type": "code",
   "execution_count": 1,
   "metadata": {},
   "outputs": [],
   "source": [
    "import pandas as pd\n",
    "import numpy as np\n",
    "import matplotlib.pyplot as plt\n"
   ]
  },
  {
   "cell_type": "code",
   "execution_count": 2,
   "metadata": {},
   "outputs": [],
   "source": [
    "df=pd.read_csv('categories.csv', delimiter=';')"
   ]
  },
  {
   "cell_type": "code",
   "execution_count": 3,
   "metadata": {},
   "outputs": [],
   "source": [
    "df2=pd.read_csv('products.csv', delimiter=';')"
   ]
  },
  {
   "cell_type": "code",
   "execution_count": 4,
   "metadata": {},
   "outputs": [
    {
     "data": {
      "text/html": [
       "<div>\n",
       "<style scoped>\n",
       "    .dataframe tbody tr th:only-of-type {\n",
       "        vertical-align: middle;\n",
       "    }\n",
       "\n",
       "    .dataframe tbody tr th {\n",
       "        vertical-align: top;\n",
       "    }\n",
       "\n",
       "    .dataframe thead th {\n",
       "        text-align: right;\n",
       "    }\n",
       "</style>\n",
       "<table border=\"1\" class=\"dataframe\">\n",
       "  <thead>\n",
       "    <tr style=\"text-align: right;\">\n",
       "      <th></th>\n",
       "      <th>ProductID</th>\n",
       "      <th>ProductName</th>\n",
       "      <th>Price</th>\n",
       "      <th>CategoryID</th>\n",
       "      <th>Class</th>\n",
       "      <th>ModifyDate</th>\n",
       "      <th>Resistant</th>\n",
       "      <th>IsAllergic</th>\n",
       "      <th>VitalityDays</th>\n",
       "    </tr>\n",
       "  </thead>\n",
       "  <tbody>\n",
       "    <tr>\n",
       "      <th>0</th>\n",
       "      <td>1</td>\n",
       "      <td>Flour - Whole Wheat</td>\n",
       "      <td>74,2988</td>\n",
       "      <td>3</td>\n",
       "      <td>Medium</td>\n",
       "      <td>2018-02-16 08:21:49.190</td>\n",
       "      <td>Durable</td>\n",
       "      <td>NaN</td>\n",
       "      <td>NaN</td>\n",
       "    </tr>\n",
       "    <tr>\n",
       "      <th>1</th>\n",
       "      <td>2</td>\n",
       "      <td>Cookie Chocolate Chip With</td>\n",
       "      <td>91,2329</td>\n",
       "      <td>3</td>\n",
       "      <td>Medium</td>\n",
       "      <td>2017-02-12 11:39:10.970</td>\n",
       "      <td>NaN</td>\n",
       "      <td>NaN</td>\n",
       "      <td>NaN</td>\n",
       "    </tr>\n",
       "    <tr>\n",
       "      <th>2</th>\n",
       "      <td>3</td>\n",
       "      <td>Onions - Cippolini</td>\n",
       "      <td>9,1379</td>\n",
       "      <td>9</td>\n",
       "      <td>Medium</td>\n",
       "      <td>2018-03-15 08:11:51.560</td>\n",
       "      <td>Weak</td>\n",
       "      <td>False</td>\n",
       "      <td>111.0</td>\n",
       "    </tr>\n",
       "    <tr>\n",
       "      <th>3</th>\n",
       "      <td>4</td>\n",
       "      <td>Sauce - Gravy, Au Jus, Mix</td>\n",
       "      <td>54,3055</td>\n",
       "      <td>9</td>\n",
       "      <td>Medium</td>\n",
       "      <td>2017-07-16 00:46:28.880</td>\n",
       "      <td>Durable</td>\n",
       "      <td>NaN</td>\n",
       "      <td>NaN</td>\n",
       "    </tr>\n",
       "    <tr>\n",
       "      <th>4</th>\n",
       "      <td>5</td>\n",
       "      <td>Artichokes - Jerusalem</td>\n",
       "      <td>65,4771</td>\n",
       "      <td>2</td>\n",
       "      <td>Low</td>\n",
       "      <td>2017-08-16 14:13:35.430</td>\n",
       "      <td>Durable</td>\n",
       "      <td>True</td>\n",
       "      <td>27.0</td>\n",
       "    </tr>\n",
       "    <tr>\n",
       "      <th>5</th>\n",
       "      <td>6</td>\n",
       "      <td>Wine - Magnotta - Cab Sauv</td>\n",
       "      <td>79,7184</td>\n",
       "      <td>8</td>\n",
       "      <td>High</td>\n",
       "      <td>2017-05-25 15:08:39.690</td>\n",
       "      <td>NaN</td>\n",
       "      <td>NaN</td>\n",
       "      <td>NaN</td>\n",
       "    </tr>\n",
       "    <tr>\n",
       "      <th>6</th>\n",
       "      <td>7</td>\n",
       "      <td>Table Cloth - 53x69 Colour</td>\n",
       "      <td>31,837</td>\n",
       "      <td>9</td>\n",
       "      <td>Medium</td>\n",
       "      <td>2017-02-24 15:14:30.050</td>\n",
       "      <td>Durable</td>\n",
       "      <td>False</td>\n",
       "      <td>NaN</td>\n",
       "    </tr>\n",
       "    <tr>\n",
       "      <th>7</th>\n",
       "      <td>8</td>\n",
       "      <td>Halibut - Steaks</td>\n",
       "      <td>89,8573</td>\n",
       "      <td>5</td>\n",
       "      <td>Medium</td>\n",
       "      <td>2018-03-24 05:21:21.890</td>\n",
       "      <td>NaN</td>\n",
       "      <td>True</td>\n",
       "      <td>108.0</td>\n",
       "    </tr>\n",
       "    <tr>\n",
       "      <th>8</th>\n",
       "      <td>9</td>\n",
       "      <td>Rabbit - Whole</td>\n",
       "      <td>84,4219</td>\n",
       "      <td>11</td>\n",
       "      <td>Medium</td>\n",
       "      <td>2017-06-17 12:12:04.670</td>\n",
       "      <td>Durable</td>\n",
       "      <td>NaN</td>\n",
       "      <td>NaN</td>\n",
       "    </tr>\n",
       "    <tr>\n",
       "      <th>9</th>\n",
       "      <td>10</td>\n",
       "      <td>Scampi Tail</td>\n",
       "      <td>95,0957</td>\n",
       "      <td>4</td>\n",
       "      <td>Low</td>\n",
       "      <td>2017-07-30 10:11:45.990</td>\n",
       "      <td>Weak</td>\n",
       "      <td>True</td>\n",
       "      <td>105.0</td>\n",
       "    </tr>\n",
       "  </tbody>\n",
       "</table>\n",
       "</div>"
      ],
      "text/plain": [
       "   ProductID                 ProductName    Price  CategoryID   Class  \\\n",
       "0          1         Flour - Whole Wheat  74,2988           3  Medium   \n",
       "1          2  Cookie Chocolate Chip With  91,2329           3  Medium   \n",
       "2          3          Onions - Cippolini   9,1379           9  Medium   \n",
       "3          4  Sauce - Gravy, Au Jus, Mix  54,3055           9  Medium   \n",
       "4          5      Artichokes - Jerusalem  65,4771           2     Low   \n",
       "5          6  Wine - Magnotta - Cab Sauv  79,7184           8    High   \n",
       "6          7  Table Cloth - 53x69 Colour   31,837           9  Medium   \n",
       "7          8            Halibut - Steaks  89,8573           5  Medium   \n",
       "8          9              Rabbit - Whole  84,4219          11  Medium   \n",
       "9         10                 Scampi Tail  95,0957           4     Low   \n",
       "\n",
       "                ModifyDate Resistant IsAllergic  VitalityDays  \n",
       "0  2018-02-16 08:21:49.190   Durable        NaN           NaN  \n",
       "1  2017-02-12 11:39:10.970       NaN        NaN           NaN  \n",
       "2  2018-03-15 08:11:51.560      Weak      False         111.0  \n",
       "3  2017-07-16 00:46:28.880   Durable        NaN           NaN  \n",
       "4  2017-08-16 14:13:35.430   Durable       True          27.0  \n",
       "5  2017-05-25 15:08:39.690       NaN        NaN           NaN  \n",
       "6  2017-02-24 15:14:30.050   Durable      False           NaN  \n",
       "7  2018-03-24 05:21:21.890       NaN       True         108.0  \n",
       "8  2017-06-17 12:12:04.670   Durable        NaN           NaN  \n",
       "9  2017-07-30 10:11:45.990      Weak       True         105.0  "
      ]
     },
     "execution_count": 4,
     "metadata": {},
     "output_type": "execute_result"
    }
   ],
   "source": [
    "df2.head(10)"
   ]
  },
  {
   "cell_type": "code",
   "execution_count": 5,
   "metadata": {},
   "outputs": [],
   "source": [
    "df3=pd.DataFrame()\n",
    "df3['ProductName']=df2['ProductName']\n",
    "df3['CategoryID']=df2['CategoryID']"
   ]
  },
  {
   "cell_type": "code",
   "execution_count": 6,
   "metadata": {},
   "outputs": [
    {
     "data": {
      "text/html": [
       "<div>\n",
       "<style scoped>\n",
       "    .dataframe tbody tr th:only-of-type {\n",
       "        vertical-align: middle;\n",
       "    }\n",
       "\n",
       "    .dataframe tbody tr th {\n",
       "        vertical-align: top;\n",
       "    }\n",
       "\n",
       "    .dataframe thead th {\n",
       "        text-align: right;\n",
       "    }\n",
       "</style>\n",
       "<table border=\"1\" class=\"dataframe\">\n",
       "  <thead>\n",
       "    <tr style=\"text-align: right;\">\n",
       "      <th></th>\n",
       "      <th>ProductName</th>\n",
       "      <th>CategoryID</th>\n",
       "    </tr>\n",
       "  </thead>\n",
       "  <tbody>\n",
       "    <tr>\n",
       "      <th>0</th>\n",
       "      <td>Flour - Whole Wheat</td>\n",
       "      <td>3</td>\n",
       "    </tr>\n",
       "    <tr>\n",
       "      <th>1</th>\n",
       "      <td>Cookie Chocolate Chip With</td>\n",
       "      <td>3</td>\n",
       "    </tr>\n",
       "    <tr>\n",
       "      <th>2</th>\n",
       "      <td>Onions - Cippolini</td>\n",
       "      <td>9</td>\n",
       "    </tr>\n",
       "    <tr>\n",
       "      <th>3</th>\n",
       "      <td>Sauce - Gravy, Au Jus, Mix</td>\n",
       "      <td>9</td>\n",
       "    </tr>\n",
       "    <tr>\n",
       "      <th>4</th>\n",
       "      <td>Artichokes - Jerusalem</td>\n",
       "      <td>2</td>\n",
       "    </tr>\n",
       "    <tr>\n",
       "      <th>...</th>\n",
       "      <td>...</td>\n",
       "      <td>...</td>\n",
       "    </tr>\n",
       "    <tr>\n",
       "      <th>447</th>\n",
       "      <td>Gatorade - Xfactor Berry</td>\n",
       "      <td>5</td>\n",
       "    </tr>\n",
       "    <tr>\n",
       "      <th>448</th>\n",
       "      <td>Nantuket Peach Orange</td>\n",
       "      <td>4</td>\n",
       "    </tr>\n",
       "    <tr>\n",
       "      <th>449</th>\n",
       "      <td>Wine - Vidal Icewine Magnotta</td>\n",
       "      <td>3</td>\n",
       "    </tr>\n",
       "    <tr>\n",
       "      <th>450</th>\n",
       "      <td>Soup - Campbells Tomato Ravioli</td>\n",
       "      <td>1</td>\n",
       "    </tr>\n",
       "    <tr>\n",
       "      <th>451</th>\n",
       "      <td>Napkin White - Starched</td>\n",
       "      <td>11</td>\n",
       "    </tr>\n",
       "  </tbody>\n",
       "</table>\n",
       "<p>452 rows × 2 columns</p>\n",
       "</div>"
      ],
      "text/plain": [
       "                         ProductName  CategoryID\n",
       "0                Flour - Whole Wheat           3\n",
       "1         Cookie Chocolate Chip With           3\n",
       "2                 Onions - Cippolini           9\n",
       "3         Sauce - Gravy, Au Jus, Mix           9\n",
       "4             Artichokes - Jerusalem           2\n",
       "..                               ...         ...\n",
       "447         Gatorade - Xfactor Berry           5\n",
       "448            Nantuket Peach Orange           4\n",
       "449    Wine - Vidal Icewine Magnotta           3\n",
       "450  Soup - Campbells Tomato Ravioli           1\n",
       "451          Napkin White - Starched          11\n",
       "\n",
       "[452 rows x 2 columns]"
      ]
     },
     "execution_count": 6,
     "metadata": {},
     "output_type": "execute_result"
    }
   ],
   "source": [
    "df3"
   ]
  },
  {
   "cell_type": "code",
   "execution_count": 7,
   "metadata": {},
   "outputs": [
    {
     "data": {
      "text/html": [
       "<div>\n",
       "<style scoped>\n",
       "    .dataframe tbody tr th:only-of-type {\n",
       "        vertical-align: middle;\n",
       "    }\n",
       "\n",
       "    .dataframe tbody tr th {\n",
       "        vertical-align: top;\n",
       "    }\n",
       "\n",
       "    .dataframe thead th {\n",
       "        text-align: right;\n",
       "    }\n",
       "</style>\n",
       "<table border=\"1\" class=\"dataframe\">\n",
       "  <thead>\n",
       "    <tr style=\"text-align: right;\">\n",
       "      <th></th>\n",
       "      <th>CategoryID</th>\n",
       "      <th>CategoryName</th>\n",
       "    </tr>\n",
       "  </thead>\n",
       "  <tbody>\n",
       "    <tr>\n",
       "      <th>0</th>\n",
       "      <td>1</td>\n",
       "      <td>Confections</td>\n",
       "    </tr>\n",
       "    <tr>\n",
       "      <th>1</th>\n",
       "      <td>2</td>\n",
       "      <td>Shell fish</td>\n",
       "    </tr>\n",
       "    <tr>\n",
       "      <th>2</th>\n",
       "      <td>3</td>\n",
       "      <td>Cereals</td>\n",
       "    </tr>\n",
       "    <tr>\n",
       "      <th>3</th>\n",
       "      <td>4</td>\n",
       "      <td>Dairy</td>\n",
       "    </tr>\n",
       "    <tr>\n",
       "      <th>4</th>\n",
       "      <td>5</td>\n",
       "      <td>Beverages</td>\n",
       "    </tr>\n",
       "    <tr>\n",
       "      <th>5</th>\n",
       "      <td>6</td>\n",
       "      <td>Seafood</td>\n",
       "    </tr>\n",
       "    <tr>\n",
       "      <th>6</th>\n",
       "      <td>7</td>\n",
       "      <td>Meat</td>\n",
       "    </tr>\n",
       "    <tr>\n",
       "      <th>7</th>\n",
       "      <td>8</td>\n",
       "      <td>Grain</td>\n",
       "    </tr>\n",
       "    <tr>\n",
       "      <th>8</th>\n",
       "      <td>9</td>\n",
       "      <td>Poultry</td>\n",
       "    </tr>\n",
       "    <tr>\n",
       "      <th>9</th>\n",
       "      <td>10</td>\n",
       "      <td>Snails</td>\n",
       "    </tr>\n",
       "    <tr>\n",
       "      <th>10</th>\n",
       "      <td>11</td>\n",
       "      <td>Produce</td>\n",
       "    </tr>\n",
       "  </tbody>\n",
       "</table>\n",
       "</div>"
      ],
      "text/plain": [
       "    CategoryID CategoryName\n",
       "0            1  Confections\n",
       "1            2   Shell fish\n",
       "2            3      Cereals\n",
       "3            4        Dairy\n",
       "4            5    Beverages\n",
       "5            6      Seafood\n",
       "6            7         Meat\n",
       "7            8        Grain\n",
       "8            9      Poultry\n",
       "9           10       Snails\n",
       "10          11      Produce"
      ]
     },
     "execution_count": 7,
     "metadata": {},
     "output_type": "execute_result"
    }
   ],
   "source": [
    "df"
   ]
  },
  {
   "cell_type": "code",
   "execution_count": 8,
   "metadata": {},
   "outputs": [],
   "source": [
    "out=(df3.merge(df,left_on='CategoryID',right_on='CategoryID').reindex(columns=['ProductName','CategoryID','CategoryName']))"
   ]
  },
  {
   "cell_type": "code",
   "execution_count": 9,
   "metadata": {},
   "outputs": [
    {
     "data": {
      "text/html": [
       "<div>\n",
       "<style scoped>\n",
       "    .dataframe tbody tr th:only-of-type {\n",
       "        vertical-align: middle;\n",
       "    }\n",
       "\n",
       "    .dataframe tbody tr th {\n",
       "        vertical-align: top;\n",
       "    }\n",
       "\n",
       "    .dataframe thead th {\n",
       "        text-align: right;\n",
       "    }\n",
       "</style>\n",
       "<table border=\"1\" class=\"dataframe\">\n",
       "  <thead>\n",
       "    <tr style=\"text-align: right;\">\n",
       "      <th></th>\n",
       "      <th>ProductName</th>\n",
       "      <th>CategoryID</th>\n",
       "      <th>CategoryName</th>\n",
       "    </tr>\n",
       "  </thead>\n",
       "  <tbody>\n",
       "    <tr>\n",
       "      <th>0</th>\n",
       "      <td>Flour - Whole Wheat</td>\n",
       "      <td>3</td>\n",
       "      <td>Cereals</td>\n",
       "    </tr>\n",
       "    <tr>\n",
       "      <th>1</th>\n",
       "      <td>Cookie Chocolate Chip With</td>\n",
       "      <td>3</td>\n",
       "      <td>Cereals</td>\n",
       "    </tr>\n",
       "    <tr>\n",
       "      <th>2</th>\n",
       "      <td>Tea - Earl Grey</td>\n",
       "      <td>3</td>\n",
       "      <td>Cereals</td>\n",
       "    </tr>\n",
       "    <tr>\n",
       "      <th>3</th>\n",
       "      <td>Chocolate - Feathers</td>\n",
       "      <td>3</td>\n",
       "      <td>Cereals</td>\n",
       "    </tr>\n",
       "    <tr>\n",
       "      <th>4</th>\n",
       "      <td>Beer - Alexander Kieths, Pale Ale</td>\n",
       "      <td>3</td>\n",
       "      <td>Cereals</td>\n",
       "    </tr>\n",
       "    <tr>\n",
       "      <th>...</th>\n",
       "      <td>...</td>\n",
       "      <td>...</td>\n",
       "      <td>...</td>\n",
       "    </tr>\n",
       "    <tr>\n",
       "      <th>447</th>\n",
       "      <td>Berry Brulee</td>\n",
       "      <td>6</td>\n",
       "      <td>Seafood</td>\n",
       "    </tr>\n",
       "    <tr>\n",
       "      <th>448</th>\n",
       "      <td>Fenngreek Seed</td>\n",
       "      <td>6</td>\n",
       "      <td>Seafood</td>\n",
       "    </tr>\n",
       "    <tr>\n",
       "      <th>449</th>\n",
       "      <td>Durian Fruit</td>\n",
       "      <td>6</td>\n",
       "      <td>Seafood</td>\n",
       "    </tr>\n",
       "    <tr>\n",
       "      <th>450</th>\n",
       "      <td>Soup V8 Roasted Red Pepper</td>\n",
       "      <td>6</td>\n",
       "      <td>Seafood</td>\n",
       "    </tr>\n",
       "    <tr>\n",
       "      <th>451</th>\n",
       "      <td>Wine - Ej Gallo Sierra Valley</td>\n",
       "      <td>6</td>\n",
       "      <td>Seafood</td>\n",
       "    </tr>\n",
       "  </tbody>\n",
       "</table>\n",
       "<p>452 rows × 3 columns</p>\n",
       "</div>"
      ],
      "text/plain": [
       "                           ProductName  CategoryID CategoryName\n",
       "0                  Flour - Whole Wheat           3      Cereals\n",
       "1           Cookie Chocolate Chip With           3      Cereals\n",
       "2                      Tea - Earl Grey           3      Cereals\n",
       "3                 Chocolate - Feathers           3      Cereals\n",
       "4    Beer - Alexander Kieths, Pale Ale           3      Cereals\n",
       "..                                 ...         ...          ...\n",
       "447                       Berry Brulee           6      Seafood\n",
       "448                     Fenngreek Seed           6      Seafood\n",
       "449                       Durian Fruit           6      Seafood\n",
       "450         Soup V8 Roasted Red Pepper           6      Seafood\n",
       "451      Wine - Ej Gallo Sierra Valley           6      Seafood\n",
       "\n",
       "[452 rows x 3 columns]"
      ]
     },
     "execution_count": 9,
     "metadata": {},
     "output_type": "execute_result"
    }
   ],
   "source": [
    "out"
   ]
  },
  {
   "cell_type": "code",
   "execution_count": 10,
   "metadata": {},
   "outputs": [],
   "source": [
    "df5=out['CategoryName'].value_counts()"
   ]
  },
  {
   "cell_type": "code",
   "execution_count": 11,
   "metadata": {},
   "outputs": [
    {
     "data": {
      "text/plain": [
       "Confections    57\n",
       "Meat           50\n",
       "Poultry        47\n",
       "Cereals        45\n",
       "Produce        43\n",
       "Beverages      38\n",
       "Snails         37\n",
       "Seafood        36\n",
       "Shell fish     36\n",
       "Dairy          35\n",
       "Grain          28\n",
       "Name: CategoryName, dtype: int64"
      ]
     },
     "execution_count": 11,
     "metadata": {},
     "output_type": "execute_result"
    }
   ],
   "source": [
    "df5"
   ]
  },
  {
   "cell_type": "code",
   "execution_count": 12,
   "metadata": {},
   "outputs": [],
   "source": [
    "labels=['Confections','Meat','Poultry','Cereals','Produce','Beverages','Snails','Seafood','Shell fish','Dairy','Grain']"
   ]
  },
  {
   "cell_type": "code",
   "execution_count": 13,
   "metadata": {},
   "outputs": [],
   "source": [
    "sizes=[57,50,47,45,43,38,37,36,36,35,28]"
   ]
  },
  {
   "cell_type": "code",
   "execution_count": 20,
   "metadata": {},
   "outputs": [
    {
     "data": {
      "text/plain": [
       "(array([ 0., 10., 20., 30., 40., 50., 60.]),\n",
       " [Text(0, 0, ''),\n",
       "  Text(0, 0, ''),\n",
       "  Text(0, 0, ''),\n",
       "  Text(0, 0, ''),\n",
       "  Text(0, 0, ''),\n",
       "  Text(0, 0, ''),\n",
       "  Text(0, 0, '')])"
      ]
     },
     "execution_count": 20,
     "metadata": {},
     "output_type": "execute_result"
    },
    {
     "data": {
      "image/png": "[encoded data removed]",
      "text/plain": [
       "<Figure size 432x288 with 1 Axes>"
      ]
     },
     "metadata": {
      "needs_background": "light"
     },
     "output_type": "display_data"
    }
   ],
   "source": [
    "plt.barh(labels,sizes,alpha=0.5,color='#000000')\n",
    "plt.xticks(rotation='vertical')"
   ]
  },
  {
   "cell_type": "markdown",
   "metadata": {},
   "source": [
    "### Pie Chart Plotting for the same above data"
   ]
  },
  {
   "cell_type": "code",
   "execution_count": 15,
   "metadata": {},
   "outputs": [
    {
     "data": {
      "image/png": "[encoded data removed]",
      "text/plain": [
       "<Figure size 432x288 with 1 Axes>"
      ]
     },
     "metadata": {},
     "output_type": "display_data"
    }
   ],
   "source": [
    "fig1, ax1 = plt.subplots()\n",
    "ax1.pie(sizes, labels=labels, autopct='%1.1f%%',\n",
    "        shadow=True, startangle=90)\n",
    "ax1.axis('equal')  \n",
    "\n",
    "plt.show()"
   ]
  },
  {
   "cell_type": "code",
   "execution_count": null,
   "metadata": {},
   "outputs": [],
   "source": []
  },
  {
   "cell_type": "code",
   "execution_count": null,
   "metadata": {},
   "outputs": [],
   "source": []
  }
 ],
 "metadata": {
  "kernelspec": {
   "display_name": "Python 3",
   "language": "python",
   "name": "python3"
  },
  "language_info": {
   "codemirror_mode": {
    "name": "ipython",
    "version": 3
   },
   "file_extension": ".py",
   "mimetype": "text/x-python",
   "name": "python",
   "nbconvert_exporter": "python",
   "pygments_lexer": "ipython3",
   "version": "3.8.6"
  }
 },
 "nbformat": 4,
 "nbformat_minor": 4
}
